{
 "cells": [
  {
   "cell_type": "code",
   "execution_count": 1,
   "metadata": {},
   "outputs": [],
   "source": [
    "import lagrangian\n",
    "import sympy"
   ]
  },
  {
   "cell_type": "code",
   "execution_count": 2,
   "metadata": {},
   "outputs": [
    {
     "name": "stdout",
     "output_type": "stream",
     "text": [
      "Lagrangian for FLexible Pendulum:\n"
     ]
    },
    {
     "data": {
      "text/latex": [
       "$\\displaystyle \\mathcal{L} = g m \\left(l + r\\right) \\cos{\\left(\\theta \\right)} - \\frac{k r^{2}}{2} + \\frac{m \\left(\\dot{ \\theta}^{2} \\left(l + r\\right)^{2} + \\dot{ r}^{2}\\right)}{2}$"
      ],
      "text/plain": [
       "<IPython.core.display.Math object>"
      ]
     },
     "metadata": {},
     "output_type": "display_data"
    },
    {
     "name": "stdout",
     "output_type": "stream",
     "text": [
      "Euler-Lagrange equations:\n",
      "Coordinate 0:\n"
     ]
    },
    {
     "data": {
      "text/latex": [
       "$\\displaystyle m \\left(l + r\\right) \\left(\\ddot{ \\theta} \\left(l + r\\right) + 2 \\dot{ \\theta} \\dot{ r} + g \\sin{\\left(\\theta \\right)}\\right) = 0$"
      ],
      "text/plain": [
       "<IPython.core.display.Math object>"
      ]
     },
     "metadata": {},
     "output_type": "display_data"
    },
    {
     "name": "stdout",
     "output_type": "stream",
     "text": [
      "Coordinate 1:\n"
     ]
    },
    {
     "data": {
      "text/latex": [
       "$\\displaystyle - \\ddot{ r} m + \\dot{ \\theta}^{2} m \\left(l + r\\right) + g m \\cos{\\left(\\theta \\right)} - k r = 0$"
      ],
      "text/plain": [
       "<IPython.core.display.Math object>"
      ]
     },
     "metadata": {},
     "output_type": "display_data"
    },
    {
     "name": "stdout",
     "output_type": "stream",
     "text": [
      "\n",
      "\n",
      "\n",
      "Hamiltonian for FLexible Pendulum:\n"
     ]
    },
    {
     "data": {
      "text/latex": [
       "$\\displaystyle \\mathcal{H} = \\frac{m \\left(- 2 g m \\left(l + r\\right) \\cos{\\left(\\theta \\right)} + k r^{2}\\right) \\left(l^{2} + 2 l r + r^{2}\\right)^{2} - p_{\\theta}^{2} \\left(l + r\\right)^{2} + 2 p_{\\theta}^{2} \\left(l^{2} + 2 l r + r^{2}\\right) + p_{r}^{2} \\left(l^{2} + 2 l r + r^{2}\\right)^{2}}{2 m \\left(l^{2} + 2 l r + r^{2}\\right)^{2}}$"
      ],
      "text/plain": [
       "<IPython.core.display.Math object>"
      ]
     },
     "metadata": {},
     "output_type": "display_data"
    },
    {
     "name": "stdout",
     "output_type": "stream",
     "text": [
      "Hamiltonian equations:\n",
      "Coordinate 0:\n"
     ]
    },
    {
     "data": {
      "text/latex": [
       "$\\displaystyle \\dot{p_{\\theta}} = - g m \\left(l + r\\right) \\sin{\\left(\\theta \\right)},~~~~\\dot{\\theta} = \\frac{- 2 p_{\\theta} \\left(l + r\\right)^{2} + 4 p_{\\theta} \\left(l^{2} + 2 l r + r^{2}\\right)}{2 m \\left(l^{2} + 2 l r + r^{2}\\right)^{2}}$"
      ],
      "text/plain": [
       "<IPython.core.display.Math object>"
      ]
     },
     "metadata": {},
     "output_type": "display_data"
    },
    {
     "name": "stdout",
     "output_type": "stream",
     "text": [
      "Coordinate 1:\n"
     ]
    },
    {
     "data": {
      "text/latex": [
       "$\\displaystyle \\dot{p_{r}} = - \\frac{\\left(- 4 l - 4 r\\right) \\left(m \\left(- 2 g m \\left(l + r\\right) \\cos{\\left(\\theta \\right)} + k r^{2}\\right) \\left(l^{2} + 2 l r + r^{2}\\right)^{2} - p_{\\theta}^{2} \\left(l + r\\right)^{2} + 2 p_{\\theta}^{2} \\left(l^{2} + 2 l r + r^{2}\\right) + p_{r}^{2} \\left(l^{2} + 2 l r + r^{2}\\right)^{2}\\right)}{2 m \\left(l^{2} + 2 l r + r^{2}\\right)^{3}} - \\frac{m \\left(4 l + 4 r\\right) \\left(- 2 g m \\left(l + r\\right) \\cos{\\left(\\theta \\right)} + k r^{2}\\right) \\left(l^{2} + 2 l r + r^{2}\\right) + m \\left(- 2 g m \\cos{\\left(\\theta \\right)} + 2 k r\\right) \\left(l^{2} + 2 l r + r^{2}\\right)^{2} + p_{\\theta}^{2} \\cdot \\left(2 l + 2 r\\right) + p_{r}^{2} \\cdot \\left(4 l + 4 r\\right) \\left(l^{2} + 2 l r + r^{2}\\right)}{2 m \\left(l^{2} + 2 l r + r^{2}\\right)^{2}},~~~~\\dot{r} = \\frac{p_{r}}{m}$"
      ],
      "text/plain": [
       "<IPython.core.display.Math object>"
      ]
     },
     "metadata": {},
     "output_type": "display_data"
    }
   ],
   "source": [
    "def FLexible_Pendulum(theta, r, d_theta, d_r):\n",
    "    m = sympy.Symbol('m')\n",
    "    g = sympy.Symbol('g')\n",
    "    l = sympy.Symbol('l')\n",
    "    k = sympy.Symbol('k')\n",
    "    return sympy.Rational(1,2)*m*(d_r**2 + (l+r)**2*d_theta**2) + m*g*(l+r)*sympy.cos(theta) - sympy.Rational(1,2)*k*r**2\n",
    "\n",
    "solver = lagrangian.solver(2, FLexible_Pendulum, custom_coords=[r'\\theta', 'r'])\n",
    "equations = solver.euler_lagrange_equations()\n",
    "p_eqs, q_eqs = solver.hamitonian_equations()\n",
    "\n",
    "solver.print_lagrangian()\n",
    "print('Euler-Lagrange equations:')\n",
    "for i in range(len(equations)):\n",
    "    print(f'Coordinate {i}:')\n",
    "    lagrangian.pprint(equations[i])\n",
    "\n",
    "print('\\n\\n')\n",
    "\n",
    "solver.print_hamiltonian()\n",
    "print('Hamiltonian equations:')\n",
    "for i in range(len(p_eqs)):\n",
    "    print(f'Coordinate {i}:')\n",
    "    lagrangian.pprint(p_eqs[i] + ',~~~~' + q_eqs[i])"
   ]
  },
  {
   "cell_type": "code",
   "execution_count": 3,
   "metadata": {},
   "outputs": [
    {
     "name": "stdout",
     "output_type": "stream",
     "text": [
      "Lagrangian for Bead in Rolling Torus:\n"
     ]
    },
    {
     "data": {
      "text/latex": [
       "$\\displaystyle \\mathcal{L} = M \\dot{ \\phi}^{2} a^{2} + \\frac{a^{2} m \\left(\\dot{ \\phi}^{2} - 2 \\dot{ \\phi} \\dot{ \\theta} \\cos{\\left(\\theta \\right)} + \\dot{ \\theta}^{2}\\right)}{2} + a g m \\cos{\\left(\\theta \\right)}$"
      ],
      "text/plain": [
       "<IPython.core.display.Math object>"
      ]
     },
     "metadata": {},
     "output_type": "display_data"
    },
    {
     "name": "stdout",
     "output_type": "stream",
     "text": [
      "Euler-Lagrange equations:\n",
      "Coordinate 0:\n"
     ]
    },
    {
     "data": {
      "text/latex": [
       "$\\displaystyle a m \\left(- \\ddot{ \\phi} a \\cos{\\left(\\theta \\right)} + \\ddot{ \\theta} a + g \\sin{\\left(\\theta \\right)}\\right) = 0$"
      ],
      "text/plain": [
       "<IPython.core.display.Math object>"
      ]
     },
     "metadata": {},
     "output_type": "display_data"
    },
    {
     "name": "stdout",
     "output_type": "stream",
     "text": [
      "Coordinate 1:\n"
     ]
    },
    {
     "data": {
      "text/latex": [
       "$\\displaystyle a^{2} \\left(\\ddot{ \\phi} \\left(2 M + m\\right) - \\ddot{ \\theta} m \\cos{\\left(\\theta \\right)} + \\dot{ \\theta}^{2} m \\sin{\\left(\\theta \\right)}\\right) = 0$"
      ],
      "text/plain": [
       "<IPython.core.display.Math object>"
      ]
     },
     "metadata": {},
     "output_type": "display_data"
    },
    {
     "name": "stdout",
     "output_type": "stream",
     "text": [
      "\n",
      "\n",
      "\n",
      "Hamiltonian for Bead in Rolling Torus:\n"
     ]
    },
    {
     "data": {
      "text/latex": [
       "$\\displaystyle \\mathcal{H} = \\frac{- 2 M a^{3} g m^{2} \\cos{\\left(\\theta \\right)} + M p_{\\theta}^{2} - a^{3} g m^{3} \\sin^{2}{\\left(\\theta \\right)} \\cos{\\left(\\theta \\right)} + \\frac{m p_{\\phi}^{2}}{2} + m p_{\\phi} p_{\\theta} \\cos{\\left(\\theta \\right)} + \\frac{m p_{\\theta}^{2}}{2}}{a^{2} m \\left(2 M + m \\sin^{2}{\\left(\\theta \\right)}\\right)}$"
      ],
      "text/plain": [
       "<IPython.core.display.Math object>"
      ]
     },
     "metadata": {},
     "output_type": "display_data"
    },
    {
     "name": "stdout",
     "output_type": "stream",
     "text": [
      "Hamiltonian equations:\n",
      "Coordinate 0:\n"
     ]
    },
    {
     "data": {
      "text/latex": [
       "$\\displaystyle \\dot{p_{\\theta}} = \\frac{2 \\left(- 2 M a^{3} g m^{2} \\cos{\\left(\\theta \\right)} + M p_{\\theta}^{2} - a^{3} g m^{3} \\sin^{2}{\\left(\\theta \\right)} \\cos{\\left(\\theta \\right)} + \\frac{m p_{\\phi}^{2}}{2} + m p_{\\phi} p_{\\theta} \\cos{\\left(\\theta \\right)} + \\frac{m p_{\\theta}^{2}}{2}\\right) \\sin{\\left(\\theta \\right)} \\cos{\\left(\\theta \\right)}}{a^{2} \\left(2 M + m \\sin^{2}{\\left(\\theta \\right)}\\right)^{2}} - \\frac{2 M a^{3} g m^{2} \\sin{\\left(\\theta \\right)} + a^{3} g m^{3} \\sin^{3}{\\left(\\theta \\right)} - 2 a^{3} g m^{3} \\sin{\\left(\\theta \\right)} \\cos^{2}{\\left(\\theta \\right)} - m p_{\\phi} p_{\\theta} \\sin{\\left(\\theta \\right)}}{a^{2} m \\left(2 M + m \\sin^{2}{\\left(\\theta \\right)}\\right)},~~~~\\dot{\\theta} = \\frac{2 M p_{\\theta} + m p_{\\phi} \\cos{\\left(\\theta \\right)} + m p_{\\theta}}{a^{2} m \\left(2 M + m \\sin^{2}{\\left(\\theta \\right)}\\right)}$"
      ],
      "text/plain": [
       "<IPython.core.display.Math object>"
      ]
     },
     "metadata": {},
     "output_type": "display_data"
    },
    {
     "name": "stdout",
     "output_type": "stream",
     "text": [
      "Coordinate 1:\n"
     ]
    },
    {
     "data": {
      "text/latex": [
       "$\\displaystyle \\dot{p_{\\phi}} = 0,~~~~\\dot{\\phi} = \\frac{m p_{\\phi} + m p_{\\theta} \\cos{\\left(\\theta \\right)}}{a^{2} m \\left(2 M + m \\sin^{2}{\\left(\\theta \\right)}\\right)}$"
      ],
      "text/plain": [
       "<IPython.core.display.Math object>"
      ]
     },
     "metadata": {},
     "output_type": "display_data"
    }
   ],
   "source": [
    "def Bead_in_Rolling_Torus(theta, phi, d_theta, d_phi):\n",
    "    M= sympy.Symbol('M')\n",
    "    m = sympy.Symbol('m')\n",
    "    a = sympy.Symbol('a')\n",
    "    g = sympy.Symbol('g')\n",
    "    T = M*(a**2)*(d_phi**2) + sympy.Rational(1,2)*m*(a**2)*(d_theta**2 + d_phi**2 - 2*d_theta*d_phi*sympy.cos(theta))\n",
    "    V = -m*g*a*sympy.cos(theta)\n",
    "    return T-V\n",
    "\n",
    "solver2 = lagrangian.solver(2, Bead_in_Rolling_Torus, custom_coords=[r'\\theta', r'\\phi'])\n",
    "equations2 = solver2.euler_lagrange_equations()\n",
    "p_eqs2, q_eqs2 = solver2.hamitonian_equations()\n",
    "\n",
    "solver2.print_lagrangian()\n",
    "print('Euler-Lagrange equations:')\n",
    "for i in range(len(equations2)):\n",
    "    print(f'Coordinate {i}:')\n",
    "    lagrangian.pprint(equations2[i])\n",
    "\n",
    "print('\\n\\n')\n",
    "\n",
    "solver2.print_hamiltonian()\n",
    "print('Hamiltonian equations:')\n",
    "for i in range(len(p_eqs2)):\n",
    "    print(f'Coordinate {i}:')\n",
    "    lagrangian.pprint(p_eqs2[i] + ',~~~~' + q_eqs2[i])"
   ]
  },
  {
   "cell_type": "code",
   "execution_count": 4,
   "metadata": {},
   "outputs": [
    {
     "name": "stdout",
     "output_type": "stream",
     "text": [
      "Lagrangian for free particle in 2D:\n"
     ]
    },
    {
     "data": {
      "text/latex": [
       "$\\displaystyle \\mathcal{L} = \\frac{\\dot{ x}^{2}}{2} + \\frac{\\dot{ y}^{2}}{2}$"
      ],
      "text/plain": [
       "<IPython.core.display.Math object>"
      ]
     },
     "metadata": {},
     "output_type": "display_data"
    },
    {
     "name": "stdout",
     "output_type": "stream",
     "text": [
      "Euler-Lagrange equations:\n",
      "Coordinate 0:\n"
     ]
    },
    {
     "data": {
      "text/latex": [
       "$\\displaystyle \\ddot{ x} = 0$"
      ],
      "text/plain": [
       "<IPython.core.display.Math object>"
      ]
     },
     "metadata": {},
     "output_type": "display_data"
    },
    {
     "name": "stdout",
     "output_type": "stream",
     "text": [
      "Coordinate 1:\n"
     ]
    },
    {
     "data": {
      "text/latex": [
       "$\\displaystyle \\ddot{ y} = 0$"
      ],
      "text/plain": [
       "<IPython.core.display.Math object>"
      ]
     },
     "metadata": {},
     "output_type": "display_data"
    },
    {
     "name": "stdout",
     "output_type": "stream",
     "text": [
      "\n",
      "\n",
      "\n",
      "Hamiltonian for free particle in 2D:\n"
     ]
    },
    {
     "data": {
      "text/latex": [
       "$\\displaystyle \\mathcal{H} = \\frac{p_{x}^{2}}{2} + \\frac{p_{y}^{2}}{2}$"
      ],
      "text/plain": [
       "<IPython.core.display.Math object>"
      ]
     },
     "metadata": {},
     "output_type": "display_data"
    },
    {
     "name": "stdout",
     "output_type": "stream",
     "text": [
      "Hamiltonian equations:\n",
      "Coordinate 0:\n"
     ]
    },
    {
     "data": {
      "text/latex": [
       "$\\displaystyle \\dot{p_{x}} = 0,~~~~\\dot{x} = p_{x}$"
      ],
      "text/plain": [
       "<IPython.core.display.Math object>"
      ]
     },
     "metadata": {},
     "output_type": "display_data"
    },
    {
     "name": "stdout",
     "output_type": "stream",
     "text": [
      "Coordinate 1:\n"
     ]
    },
    {
     "data": {
      "text/latex": [
       "$\\displaystyle \\dot{p_{y}} = 0,~~~~\\dot{y} = p_{y}$"
      ],
      "text/plain": [
       "<IPython.core.display.Math object>"
      ]
     },
     "metadata": {},
     "output_type": "display_data"
    }
   ],
   "source": [
    "def free_particle_in_2D(x, y, vx, vy):\n",
    "    return sympy.Rational(1,2)* (vx**2 + vy**2)\n",
    "\n",
    "solver3 = lagrangian.solver(2, free_particle_in_2D, custom_coords=['x', 'y'])\n",
    "equations3 = solver3.euler_lagrange_equations()\n",
    "p_eqs3, q_eqs3 = solver3.hamitonian_equations()\n",
    "\n",
    "solver3.print_lagrangian()\n",
    "print('Euler-Lagrange equations:')\n",
    "for i in range(len(equations3)):\n",
    "    print(f'Coordinate {i}:')\n",
    "    lagrangian.pprint(equations3[i])\n",
    "\n",
    "print('\\n\\n')\n",
    "\n",
    "solver3.print_hamiltonian()\n",
    "print('Hamiltonian equations:')\n",
    "for i in range(len(p_eqs3)):\n",
    "    print(f'Coordinate {i}:')\n",
    "    lagrangian.pprint(p_eqs3[i] + ',~~~~' + q_eqs3[i])\n"
   ]
  },
  {
   "cell_type": "code",
   "execution_count": 5,
   "metadata": {},
   "outputs": [
    {
     "name": "stdout",
     "output_type": "stream",
     "text": [
      "Lagrangian for Atwood Machine:\n"
     ]
    },
    {
     "data": {
      "text/latex": [
       "$\\displaystyle \\mathcal{L} = \\frac{M \\dot{ x}^{2}}{2} - g \\left(M x - m_{1} \\left(x - y\\right) - m_{2} \\left(x + y\\right)\\right) + \\frac{m_{1} \\left(\\dot{ x} - \\dot{ y}\\right)^{2}}{2} + \\frac{m_{2} \\left(\\dot{ x} + \\dot{ y}\\right)^{2}}{2}$"
      ],
      "text/plain": [
       "<IPython.core.display.Math object>"
      ]
     },
     "metadata": {},
     "output_type": "display_data"
    },
    {
     "name": "stdout",
     "output_type": "stream",
     "text": [
      "Euler-Lagrange equations:\n",
      "Coordinate 0:\n"
     ]
    },
    {
     "data": {
      "text/latex": [
       "$\\displaystyle - \\ddot{ x} \\left(M + m_{1} + m_{2}\\right) + \\ddot{ y} \\left(m_{1} - m_{2}\\right) + g \\left(- M + m_{1} + m_{2}\\right) = 0$"
      ],
      "text/plain": [
       "<IPython.core.display.Math object>"
      ]
     },
     "metadata": {},
     "output_type": "display_data"
    },
    {
     "name": "stdout",
     "output_type": "stream",
     "text": [
      "Coordinate 1:\n"
     ]
    },
    {
     "data": {
      "text/latex": [
       "$\\displaystyle - \\ddot{ x} \\left(m_{1} - m_{2}\\right) + \\ddot{ y} \\left(m_{1} + m_{2}\\right) + g \\left(m_{1} - m_{2}\\right) = 0$"
      ],
      "text/plain": [
       "<IPython.core.display.Math object>"
      ]
     },
     "metadata": {},
     "output_type": "display_data"
    },
    {
     "name": "stdout",
     "output_type": "stream",
     "text": [
      "\n",
      "\n",
      "\n",
      "Hamiltonian for Atwood Machine:\n"
     ]
    },
    {
     "data": {
      "text/latex": [
       "$\\displaystyle \\mathcal{H} = \\frac{- M \\left(m_{1} p_{x} + m_{1} p_{y} + m_{2} p_{x} - m_{2} p_{y}\\right)^{2} - 2 g \\left(M m_{1} + M m_{2} + 4 m_{1} m_{2}\\right)^{2} \\left(- M x + m_{1} \\left(x - y\\right) + m_{2} \\left(x + y\\right)\\right) - m_{1} \\left(- M p_{y} + 2 m_{2} p_{x} - 2 m_{2} p_{y}\\right)^{2} - m_{2} \\left(M p_{y} + 2 m_{1} p_{x} + 2 m_{1} p_{y}\\right)^{2} + 2 \\left(p_{x} \\left(m_{1} p_{x} + m_{1} p_{y} + m_{2} p_{x} - m_{2} p_{y}\\right) + p_{y} \\left(M p_{y} + m_{1} p_{x} + m_{1} p_{y} - m_{2} p_{x} + m_{2} p_{y}\\right)\\right) \\left(M m_{1} + M m_{2} + 4 m_{1} m_{2}\\right)}{2 \\left(M m_{1} + M m_{2} + 4 m_{1} m_{2}\\right)^{2}}$"
      ],
      "text/plain": [
       "<IPython.core.display.Math object>"
      ]
     },
     "metadata": {},
     "output_type": "display_data"
    },
    {
     "name": "stdout",
     "output_type": "stream",
     "text": [
      "Hamiltonian equations:\n",
      "Coordinate 0:\n"
     ]
    },
    {
     "data": {
      "text/latex": [
       "$\\displaystyle \\dot{p_{x}} = g \\left(- M + m_{1} + m_{2}\\right),~~~~\\dot{x} = \\frac{- M \\left(2 m_{1} + 2 m_{2}\\right) \\left(m_{1} p_{x} + m_{1} p_{y} + m_{2} p_{x} - m_{2} p_{y}\\right) - 4 m_{1} m_{2} \\left(- M p_{y} + 2 m_{2} p_{x} - 2 m_{2} p_{y}\\right) - 4 m_{1} m_{2} \\left(M p_{y} + 2 m_{1} p_{x} + 2 m_{1} p_{y}\\right) + 2 \\left(M m_{1} + M m_{2} + 4 m_{1} m_{2}\\right) \\left(m_{1} p_{x} + m_{1} p_{y} + m_{2} p_{x} - m_{2} p_{y} + p_{x} \\left(m_{1} + m_{2}\\right) + p_{y} \\left(m_{1} - m_{2}\\right)\\right)}{2 \\left(M m_{1} + M m_{2} + 4 m_{1} m_{2}\\right)^{2}}$"
      ],
      "text/plain": [
       "<IPython.core.display.Math object>"
      ]
     },
     "metadata": {},
     "output_type": "display_data"
    },
    {
     "name": "stdout",
     "output_type": "stream",
     "text": [
      "Coordinate 1:\n"
     ]
    },
    {
     "data": {
      "text/latex": [
       "$\\displaystyle \\dot{p_{y}} = g \\left(- m_{1} + m_{2}\\right),~~~~\\dot{y} = \\frac{- M \\left(2 m_{1} - 2 m_{2}\\right) \\left(m_{1} p_{x} + m_{1} p_{y} + m_{2} p_{x} - m_{2} p_{y}\\right) - m_{1} \\left(- 2 M - 4 m_{2}\\right) \\left(- M p_{y} + 2 m_{2} p_{x} - 2 m_{2} p_{y}\\right) - m_{2} \\cdot \\left(2 M + 4 m_{1}\\right) \\left(M p_{y} + 2 m_{1} p_{x} + 2 m_{1} p_{y}\\right) + 2 \\left(M m_{1} + M m_{2} + 4 m_{1} m_{2}\\right) \\left(M p_{y} + m_{1} p_{x} + m_{1} p_{y} - m_{2} p_{x} + m_{2} p_{y} + p_{x} \\left(m_{1} - m_{2}\\right) + p_{y} \\left(M + m_{1} + m_{2}\\right)\\right)}{2 \\left(M m_{1} + M m_{2} + 4 m_{1} m_{2}\\right)^{2}}$"
      ],
      "text/plain": [
       "<IPython.core.display.Math object>"
      ]
     },
     "metadata": {},
     "output_type": "display_data"
    }
   ],
   "source": [
    "def Atwood_Machine(x,y, dx, dy):\n",
    "    M = sympy.Symbol('M')\n",
    "    m1 = sympy.Symbol('m1')\n",
    "    m2 = sympy.Symbol('m2')\n",
    "    g = sympy.Symbol('g')\n",
    "    half = sympy.Rational(1,2)\n",
    "    T = half*M*(dx**2) + half*m1*(dx-dy)**2 + half*m2*(dx + dy)**2\n",
    "    V = g*(M*x - m1*(x-y) - m2*(x+y))\n",
    "    return T-V\n",
    "\n",
    "solver4 = lagrangian.solver(2, Atwood_Machine, custom_coords=['x', 'y'])\n",
    "equations4 = solver4.euler_lagrange_equations()\n",
    "p_eqs4, q_eqs4 = solver4.hamitonian_equations()\n",
    "\n",
    "solver4.print_lagrangian()\n",
    "print('Euler-Lagrange equations:')\n",
    "for i in range(len(equations4)):\n",
    "    print(f'Coordinate {i}:')\n",
    "    lagrangian.pprint(equations4[i])\n",
    "\n",
    "print('\\n\\n')\n",
    "\n",
    "solver4.print_hamiltonian()\n",
    "print('Hamiltonian equations:')\n",
    "for i in range(len(p_eqs4)):\n",
    "    print(f'Coordinate {i}:')\n",
    "    lagrangian.pprint(p_eqs4[i] + ',~~~~' + q_eqs4[i])"
   ]
  }
 ],
 "metadata": {
  "kernelspec": {
   "display_name": "Python 3",
   "language": "python",
   "name": "python3"
  },
  "language_info": {
   "codemirror_mode": {
    "name": "ipython",
    "version": 3
   },
   "file_extension": ".py",
   "mimetype": "text/x-python",
   "name": "python",
   "nbconvert_exporter": "python",
   "pygments_lexer": "ipython3",
   "version": "3.11.0"
  }
 },
 "nbformat": 4,
 "nbformat_minor": 2
}
